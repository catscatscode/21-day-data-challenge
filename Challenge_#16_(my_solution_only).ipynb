{
 "cells": [
  {
   "cell_type": "markdown",
   "metadata": {},
   "source": [
    "# Challenge #16\n",
    "Difficulty: Easy,\n",
    "Points: 5"
   ]
  },
  {
   "cell_type": "markdown",
   "metadata": {},
   "source": [
    "### **Day 16: *Descriptive Statistics with Boxplots***\n",
    "\n",
    "### Challenge\n",
    "\n",
    "**Create a boxplot to answer the following questions:**\n",
    "\n",
    "1. How many books have over 4000 pages? \n",
    "\n",
    "    Note: Do not use a fitler, use a boxplot.\n",
    "    \n",
    "2. What are the average ratings for books that have over 4000 pages?\n",
    "\n",
    "    Note: You can use a filter for question 2. "
   ]
  },
  {
   "cell_type": "code",
   "execution_count": 1,
   "metadata": {},
   "outputs": [],
   "source": [
    "# Given\n",
    "\n",
    "import pandas as pd\n",
    "import matplotlib.pyplot as plt\n",
    "df = pd.read_csv(\"books.csv\")"
   ]
  },
  {
   "cell_type": "markdown",
   "metadata": {},
   "source": [
    "### My solution:"
   ]
  },
  {
   "cell_type": "code",
   "execution_count": null,
   "metadata": {},
   "outputs": [],
   "source": [
    "# Taking a look at the dataframe\n",
    "df"
   ]
  },
  {
   "cell_type": "code",
   "execution_count": null,
   "metadata": {},
   "outputs": [],
   "source": [
    "#q1 How many books have over 4000 pages? (using a boxplot)\n",
    "    \n",
    "plt.figure()\n",
    "plt.boxplot(df['num_pages'], vert=False)\n",
    "plt.show()\n",
    "\n",
    "#A: two books have over 4,000 pages."
   ]
  },
  {
   "cell_type": "code",
   "execution_count": null,
   "metadata": {},
   "outputs": [],
   "source": [
    "#q2 What are the average ratings for books that have over 4000 pages? (using a filter)\n",
    "\n",
    "df[df.num_pages > 4000]\n",
    "\n",
    "#A: the average ratings of these two books are 4.70, 4.45."
   ]
  }
 ],
 "metadata": {
  "kernelspec": {
   "display_name": "Python 3",
   "language": "python",
   "name": "python3"
  },
  "language_info": {
   "codemirror_mode": {
    "name": "ipython",
    "version": 3
   },
   "file_extension": ".py",
   "mimetype": "text/x-python",
   "name": "python",
   "nbconvert_exporter": "python",
   "pygments_lexer": "ipython3",
   "version": "3.8.3"
  }
 },
 "nbformat": 4,
 "nbformat_minor": 4
}
