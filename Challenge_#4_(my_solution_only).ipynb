{
 "cells": [
  {
   "cell_type": "markdown",
   "metadata": {},
   "source": [
    "## Challenge #4\n",
    "Difficulty: Easy,\n",
    "Points: 5"
   ]
  },
  {
   "cell_type": "markdown",
   "metadata": {},
   "source": [
    "### **Day Four: *for loops***"
   ]
  },
  {
   "cell_type": "markdown",
   "metadata": {},
   "source": [
    "**Use a loop to determine the price Dot would pay for purchasing supplies at the retail price. Based on that calculation, which itmes should Dot buy at retail vs. wholesale?**\n",
    "\n",
    "**Note:** Assume the wholesale price covers all the supply Dot needs for each item, whereas the retail price is per single unit."
   ]
  },
  {
   "cell_type": "code",
   "execution_count": 3,
   "metadata": {},
   "outputs": [],
   "source": [
    "# Given:\n",
    " \n",
    "item_list = ['Oak Wood', 'Blue Paint', 'White Paint', 'Paint Finish']\n",
    "\n",
    "amount_list = [600,150,15,165]\n",
    "\n",
    "wholesale_price_list = [7000, 1000, 1000, 800]\n",
    "\n",
    "retail_price = [12.99, 8.99, 9.99, 3.99]"
   ]
  },
  {
   "cell_type": "markdown",
   "metadata": {},
   "source": [
    "### My solution:"
   ]
  },
  {
   "cell_type": "code",
   "execution_count": 4,
   "metadata": {},
   "outputs": [],
   "source": [
    "# 1. I changed some names and formatting for clarity and cleanliness\n",
    "\n",
    "item_list = ['Oak Wood', 'Blue Paint', 'White Paint', 'Paint Finish']\n",
    "\n",
    "amount_list = [600, 150, 15, 165]\n",
    "\n",
    "wholesale_cost_list = [7000, 1000, 1000, 800]\n",
    "\n",
    "retail_price_list = [12.99, 8.99, 9.99, 3.99]"
   ]
  },
  {
   "cell_type": "code",
   "execution_count": 5,
   "metadata": {},
   "outputs": [
    {
     "name": "stdout",
     "output_type": "stream",
     "text": [
      "[11.67, 6.67, 66.67, 4.85]\n"
     ]
    }
   ],
   "source": [
    "# 2. I iterated over the wholesale cost amounts \n",
    "# (note that I had renamed this list for clarity in the previous cell) \n",
    "# in order to calculate wholesale prices per unit \n",
    "\n",
    "wholesale_price_list = []\n",
    "for i in range(len(amount_list)):\n",
    "    wholesale_price = round(wholesale_cost_list[i]/amount_list[i], 2)\n",
    "    wholesale_price_list.append(wholesale_price)\n",
    "print(wholesale_price_list)    "
   ]
  },
  {
   "cell_type": "code",
   "execution_count": 6,
   "metadata": {},
   "outputs": [
    {
     "name": "stdout",
     "output_type": "stream",
     "text": [
      "Oak Wood: Buy wholesale\n",
      "Blue Paint: Buy wholesale\n",
      "White Paint: Don't buy wholesale\n",
      "Paint Finish: Don't buy wholesale\n"
     ]
    }
   ],
   "source": [
    "# 3. I iterated over the item names, and displayed the advice\n",
    "# on whether or not it's reasonable to buy it wholesale, \n",
    "# based on the prices\n",
    "\n",
    "for i in range(len(wholesale_price_list)):\n",
    "    if wholesale_price_list[i] <= retail_price_list[i]:\n",
    "        print(\"{item}: Buy wholesale\".format(item=item_list[i]))\n",
    "    else:\n",
    "        print(\"{item}: Don't buy wholesale\".format(item=item_list[i]))"
   ]
  },
  {
   "cell_type": "code",
   "execution_count": null,
   "metadata": {},
   "outputs": [],
   "source": []
  }
 ],
 "metadata": {
  "kernelspec": {
   "display_name": "Python 3",
   "language": "python",
   "name": "python3"
  },
  "language_info": {
   "codemirror_mode": {
    "name": "ipython",
    "version": 3
   },
   "file_extension": ".py",
   "mimetype": "text/x-python",
   "name": "python",
   "nbconvert_exporter": "python",
   "pygments_lexer": "ipython3",
   "version": "3.8.3"
  }
 },
 "nbformat": 4,
 "nbformat_minor": 4
}
