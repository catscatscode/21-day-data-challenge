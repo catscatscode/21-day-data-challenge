{
 "cells": [
  {
   "cell_type": "markdown",
   "metadata": {},
   "source": [
    "## Challenge #3\n",
    "Difficulty: Easy, \n",
    "Points: 5"
   ]
  },
  {
   "cell_type": "markdown",
   "metadata": {},
   "source": [
    "### Day Three: lists, dictionaries, and indexing"
   ]
  },
  {
   "cell_type": "markdown",
   "metadata": {},
   "source": [
    "**Create a paint_list list from the new_shopping_list list using the built in python list indexing ability.**"
   ]
  },
  {
   "cell_type": "markdown",
   "metadata": {},
   "source": [
    "### My solution:"
   ]
  },
  {
   "cell_type": "code",
   "execution_count": 2,
   "metadata": {},
   "outputs": [],
   "source": [
    "# Given:\n",
    "shopping_list = ['20 x Oak plank', '20 x Oak Plank', '20 x Cherry Plank', 'White Paint', 'White Paint', 'White Paint']"
   ]
  },
  {
   "cell_type": "code",
   "execution_count": 3,
   "metadata": {},
   "outputs": [
    {
     "name": "stdout",
     "output_type": "stream",
     "text": [
      "Working on the new shopping list: ['20 x Maple plank', '20 x Maple Plank', '20 x Cherry Plank', 'White Paint', 'White Paint', 'White Paint']\n"
     ]
    }
   ],
   "source": [
    "# 1. I created the new shopping list \n",
    "\n",
    "# 1.1. First I updated the wood, substituting maple instead of oak\n",
    "new_shopping_list = []\n",
    "for item in shopping_list:\n",
    "    if \"Oak\" in item:\n",
    "        new_wood = item.replace(\"Oak\", \"Maple\")\n",
    "        new_shopping_list.append(new_wood)\n",
    "    else:\n",
    "        new_shopping_list.append(item)\n",
    "print(\"Working on the new shopping list:\", new_shopping_list)    "
   ]
  },
  {
   "cell_type": "code",
   "execution_count": 4,
   "metadata": {},
   "outputs": [
    {
     "name": "stdout",
     "output_type": "stream",
     "text": [
      "Still working on the new shopping list: ['20 x Maple plank', '20 x Maple Plank', '20 x Cherry Plank', 'White Paint', 'Blue Paint', 'Blue Paint']\n"
     ]
    }
   ],
   "source": [
    "# 1.2. Then I also updated the paint needs in the new shopping list:\n",
    "\n",
    "# 1.2.1. updated the colors of existing paints\n",
    "for index, item in enumerate(new_shopping_list):\n",
    "    if index > 3:\n",
    "        new_shopping_list[index] = item.replace(\"White\", \"Blue\")\n",
    "print(\"Still working on the new shopping list:\", new_shopping_list) "
   ]
  },
  {
   "cell_type": "code",
   "execution_count": 5,
   "metadata": {},
   "outputs": [
    {
     "name": "stdout",
     "output_type": "stream",
     "text": [
      "Tada! New shopping list: ['20 x Maple plank', '20 x Maple Plank', '20 x Cherry Plank', 'White Paint', 'Blue Paint', 'Blue Paint', 'Blue Paint']\n"
     ]
    }
   ],
   "source": [
    "# 1.2.2. and updated the number of buckets        \n",
    "new_shopping_list.append(\"Blue Paint\")\n",
    "\n",
    "print(\"Tada! New shopping list:\", new_shopping_list)"
   ]
  },
  {
   "cell_type": "code",
   "execution_count": 6,
   "metadata": {},
   "outputs": [
    {
     "name": "stdout",
     "output_type": "stream",
     "text": [
      "['White Paint', 'Blue Paint', 'Blue Paint', 'Blue Paint']\n"
     ]
    }
   ],
   "source": [
    "# 2. I created a subset of the new_shopping_list \n",
    "# consisting entirely of paints to buy\n",
    "# and called paint_list\n",
    "\n",
    "paint_list = []\n",
    "for item in new_shopping_list:\n",
    "    if \"Paint\" in item:\n",
    "        paint_list.append(item)\n",
    "print(paint_list)"
   ]
  },
  {
   "cell_type": "code",
   "execution_count": 7,
   "metadata": {},
   "outputs": [
    {
     "name": "stdout",
     "output_type": "stream",
     "text": [
      "['White Paint', 'Blue Paint', 'Blue Paint', 'Blue Paint']\n"
     ]
    }
   ],
   "source": [
    "# 3. An alternate solution \n",
    "# (because the list is available to us and not too long, therefore\n",
    "# we can determine the paints' indices in the list manually)\n",
    "# would be to use list splicing\n",
    "\n",
    "paint_list = new_shopping_list[3:]\n",
    "print(paint_list)"
   ]
  },
  {
   "cell_type": "code",
   "execution_count": null,
   "metadata": {},
   "outputs": [],
   "source": []
  }
 ],
 "metadata": {
  "kernelspec": {
   "display_name": "Python 3",
   "language": "python",
   "name": "python3"
  },
  "language_info": {
   "codemirror_mode": {
    "name": "ipython",
    "version": 3
   },
   "file_extension": ".py",
   "mimetype": "text/x-python",
   "name": "python",
   "nbconvert_exporter": "python",
   "pygments_lexer": "ipython3",
   "version": "3.8.3"
  }
 },
 "nbformat": 4,
 "nbformat_minor": 4
}
