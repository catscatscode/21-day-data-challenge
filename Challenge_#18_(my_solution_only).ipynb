{
 "cells": [
  {
   "cell_type": "markdown",
   "metadata": {},
   "source": [
    "# Challenge #18\n",
    "Difficulty: Medium,<br>\n",
    "Points: 10"
   ]
  },
  {
   "cell_type": "markdown",
   "metadata": {},
   "source": [
    "### **Day 18: *Matplotlib Stylistic Methods***\n",
    "\n",
    "### Challenge\n",
    "\n",
    "1. **What are the top 5 boardgame categories in this dataset that are not targeted for young children?** \n",
    "    - **Note:** For the question above, use a filter to acquire boardgames with an inteded age of 13+, there is an *age* column in our dataset.\n",
    "    \n",
    "    \n",
    "2. **Which categories of boardgames that are not targeted for young children are the same compared to the top 5 boardgames categories in the overall dataset?** \n",
    "\n",
    "\n",
    "\n",
    "**Stretch**\n",
    "\n",
    "Try out the various matplotlib plot styles from this [article](https://www.dunderdata.com/blog/view-all-available-matplotlib-styles)."
   ]
  },
  {
   "cell_type": "code",
   "execution_count": null,
   "metadata": {},
   "outputs": [],
   "source": [
    "# Given\n",
    "import pandas as pd\n",
    "import matplotlib.pyplot as plt"
   ]
  },
  {
   "cell_type": "code",
   "execution_count": null,
   "metadata": {},
   "outputs": [],
   "source": [
    "df = pd.read_csv('boardgames.csv')\n",
    "df.head(2)"
   ]
  },
  {
   "cell_type": "markdown",
   "metadata": {},
   "source": [
    "### My solution:"
   ]
  },
  {
   "cell_type": "code",
   "execution_count": null,
   "metadata": {},
   "outputs": [],
   "source": [
    "# Setting up the age filter\n",
    "df_adult = df[df['age'] >= 13]\n",
    "df_adult_sorted = df_adult.sort_values('avg_rating', ascending = False)"
   ]
  },
  {
   "cell_type": "code",
   "execution_count": null,
   "metadata": {},
   "outputs": [],
   "source": [
    "# Top 5 game categories by rating for ages 13+\n",
    "plt.figure()\n",
    "plt.bar(x = df_adult_sorted['category'].value_counts().head().index, height = df_adult_sorted['category'].value_counts().head(), color = 'green')\n",
    "plt.xticks(rotation = 'vertical')\n",
    "plt.show()\n",
    "\n",
    "# Answer to q1 (top 5 categories for 13+, from most popular to less popular): \n",
    "# 1 - Card Game - Fantasy\n",
    "# 2 - Wargame - World War II\n",
    "# 3 - Card Game\n",
    "# 4 - Economic, Trains\n",
    "# 5 - Fantasy"
   ]
  },
  {
   "cell_type": "code",
   "execution_count": null,
   "metadata": {},
   "outputs": [],
   "source": [
    "# Top 5 game categories by rating for all ages\n",
    "plt.figure()\n",
    "plt.bar(x = df['category'].value_counts().head().index, height = df['category'].value_counts().head(), color = 'red')\n",
    "plt.xticks(rotation = 'vertical')\n",
    "plt.show()\n",
    "\n",
    "# Output (top 5 all ages, from most popular to less popular):\n",
    "# 1 - Wargame - World War II\n",
    "# 2 - Card Game\n",
    "# 3 - Abstract Strategy\n",
    "# 4 - Card Game, Fantasy\n",
    "# 5 - Economic\n",
    "\n",
    "# Answer to q2: what categories are in common among top5-13+ and top5-all ages?\n",
    "# Wargame - World War II; Card Game; Card Game, Fantasy"
   ]
  }
 ],
 "metadata": {
  "kernelspec": {
   "display_name": "Python 3",
   "language": "python",
   "name": "python3"
  },
  "language_info": {
   "codemirror_mode": {
    "name": "ipython",
    "version": 3
   },
   "file_extension": ".py",
   "mimetype": "text/x-python",
   "name": "python",
   "nbconvert_exporter": "python",
   "pygments_lexer": "ipython3",
   "version": "3.8.3"
  }
 },
 "nbformat": 4,
 "nbformat_minor": 4
}
