{
 "cells": [
  {
   "cell_type": "markdown",
   "metadata": {},
   "source": [
    "# Challenge #6\n",
    "Difficulty: Easy, Points: 5"
   ]
  },
  {
   "cell_type": "markdown",
   "metadata": {},
   "source": [
    "### **Day Six: *descriptive statistics***"
   ]
  },
  {
   "cell_type": "markdown",
   "metadata": {},
   "source": [
    "### Challenge:\n",
    "\n",
    "There are many holes in the living room's ceiling that desperately need to be fixed. Dot's measured them, and in total there are about 100. They need to figure out how much does it cost to fix all of the holes. Differently sized holes will require differently sized patches to fix them. \n",
    "\n",
    "| Size of Hole             | Cost to Fix |\n",
    "|--------------------------|-------------|\n",
    "| Small (less than 20 mm)  | \\\\$1.30       |\n",
    "| Medium (above or equal to 20 mm AND less than 70mm) | \\\\$1.60       |\n",
    "| Large (above or equal to 70 mm)     | \\\\$2.10       |\n",
    "\n",
    "**Dot needs you to look at the measurements and figure out the answers to the following questions:**\n",
    " \n",
    "1. What is the average sized hole?\n",
    "2. What is the average cost to fix a hole?\n",
    "3. What is the total cost of fixing all of the holes?\n",
    "     \n",
    "     - Note: Use a for loop and an if else statement to answer Q3. \n",
    "\n",
    "**Stretch Question:**\n",
    "\n",
    "*Stretch Questions are not required to be completed to finish the challenge but are recommended to further develop your skills.*\n",
    "\n",
    "\n",
    "1. What is the maximum sized hole?\n",
    "2. What is the minimum sized hole? "
   ]
  },
  {
   "cell_type": "code",
   "execution_count": 41,
   "metadata": {},
   "outputs": [
    {
     "data": {
      "text/plain": [
       "[9, 3, 1, 21, 35]"
      ]
     },
     "execution_count": 41,
     "metadata": {},
     "output_type": "execute_result"
    }
   ],
   "source": [
    "# Given:\n",
    "\n",
    "import random \n",
    "random.seed(34)\n",
    "\n",
    "hole_sizes = [random.randint(1, i) for i in range(1, 101)]\n",
    "random.shuffle(hole_sizes)\n",
    "\n",
    "# hole sizes in mm\n",
    "hole_sizes[:5]"
   ]
  },
  {
   "cell_type": "markdown",
   "metadata": {},
   "source": [
    "### My solution:"
   ]
  },
  {
   "cell_type": "code",
   "execution_count": 42,
   "metadata": {},
   "outputs": [],
   "source": [
    "# I imported pandas and converted the holes dataset into pandas series format\n",
    "\n",
    "import pandas as pd\n",
    "holes_series = pd.Series(hole_sizes)"
   ]
  },
  {
   "cell_type": "code",
   "execution_count": 43,
   "metadata": {},
   "outputs": [
    {
     "name": "stdout",
     "output_type": "stream",
     "text": [
      "Q1: 28.39\n"
     ]
    }
   ],
   "source": [
    "# Question 1: Average Hole Size\n",
    "# I calculated the average using the pandas .mean() method \n",
    "# (correct answer is 28.39)\n",
    "\n",
    "print(\"Q1:\", holes_series.mean())"
   ]
  },
  {
   "cell_type": "code",
   "execution_count": 44,
   "metadata": {},
   "outputs": [
    {
     "name": "stdout",
     "output_type": "stream",
     "text": [
      "Q3: $ 148.8\n"
     ]
    }
   ],
   "source": [
    "# Question 3: Total Cost of Fixing All Holes\n",
    "# I iterated through the list of holes, appending to the total cost \n",
    "# the price of fixing each hole depending on its size\n",
    "# (correct answer for Q3 is $148.80)\n",
    "\n",
    "costs = [1.3, 1.6, 2.1]\n",
    "total_cost = 0\n",
    "for hole in hole_sizes:\n",
    "    if hole < 20:\n",
    "        cost = costs[0]\n",
    "    elif hole > 70 :\n",
    "        cost = costs[2]\n",
    "    else:\n",
    "        cost = costs[1]\n",
    "    total_cost += cost\n",
    "print(\"Q3: $\", round(total_cost, 2))"
   ]
  },
  {
   "cell_type": "code",
   "execution_count": 45,
   "metadata": {
    "scrolled": true
   },
   "outputs": [
    {
     "name": "stdout",
     "output_type": "stream",
     "text": [
      "Q2: $ 1.488\n"
     ]
    }
   ],
   "source": [
    "# Question 2: Average Cost to Fix a Hole\n",
    "# I flipped the order for Questions 2 and 3, \n",
    "# because I needed the answer from Q3 in order to solve Q2\n",
    "# (correct answer for Q2 is $1.488)\n",
    "\n",
    "print(\"Q2: $\", round(total_cost / len(hole_sizes), 3))"
   ]
  },
  {
   "cell_type": "code",
   "execution_count": 46,
   "metadata": {},
   "outputs": [
    {
     "name": "stdout",
     "output_type": "stream",
     "text": [
      "Stretch Question 1: 96\n"
     ]
    }
   ],
   "source": [
    "# Bonus Question 1: Maximum Hole Size\n",
    "# I\n",
    "\n",
    "print(\"Stretch Question 1:\", holes_series.max())"
   ]
  },
  {
   "cell_type": "code",
   "execution_count": 47,
   "metadata": {},
   "outputs": [
    {
     "name": "stdout",
     "output_type": "stream",
     "text": [
      "Stretch Question 2: 1\n"
     ]
    }
   ],
   "source": [
    "# Bonus Question 1: Minimum Hole Size\n",
    "# I\n",
    "\n",
    "print(\"Stretch Question 2:\", holes_series.min())"
   ]
  }
 ],
 "metadata": {
  "kernelspec": {
   "display_name": "Python 3",
   "language": "python",
   "name": "python3"
  },
  "language_info": {
   "codemirror_mode": {
    "name": "ipython",
    "version": 3
   },
   "file_extension": ".py",
   "mimetype": "text/x-python",
   "name": "python",
   "nbconvert_exporter": "python",
   "pygments_lexer": "ipython3",
   "version": "3.8.3"
  }
 },
 "nbformat": 4,
 "nbformat_minor": 4
}
