{
 "cells": [
  {
   "cell_type": "markdown",
   "metadata": {},
   "source": [
    "## Challenge #3\n",
    "Difficulty: Easy,\n",
    "Points: 5"
   ]
  },
  {
   "cell_type": "markdown",
   "metadata": {},
   "source": [
    "### Day One: Python variables & print functions"
   ]
  },
  {
   "cell_type": "code",
   "execution_count": 1,
   "metadata": {},
   "outputs": [],
   "source": [
    "# Given:\n",
    "\n",
    "lease = '''Dear Dot, \n",
    "           This document validates that you are beholden to a monthly payment of rent for this house.\n",
    "           Rent is to be paid by the first of every month.\n",
    "           Fill in your signature to agree to these terms.  \n",
    "            -------------\n",
    "            Please Sign Here: \n",
    "'''"
   ]
  },
  {
   "cell_type": "markdown",
   "metadata": {},
   "source": [
    "### My solution:"
   ]
  },
  {
   "cell_type": "code",
   "execution_count": 1,
   "metadata": {},
   "outputs": [
    {
     "name": "stdout",
     "output_type": "stream",
     "text": [
      "Dear Dot, \n",
      "           This document validates that you are beholden to a monthly payment of rent for this house.\n",
      "           Rent is to be paid by the first of every month.\n",
      "           Fill in your signature to agree to these terms.  \n",
      "            -------------\n",
      "            Please Sign Here: Dot\n",
      "\n"
     ]
    }
   ],
   "source": [
    "# I solved this using the .format() method, but one could use fstring instead\n",
    "\n",
    "name = \"Dot\"\n",
    "lease = '''Dear Dot, \n",
    "           This document validates that you are beholden to a monthly payment of rent for this house.\n",
    "           Rent is to be paid by the first of every month.\n",
    "           Fill in your signature to agree to these terms.  \n",
    "            -------------\n",
    "            Please Sign Here: {name}\n",
    "'''.format(name=name)\n",
    "print(lease)"
   ]
  },
  {
   "cell_type": "code",
   "execution_count": null,
   "metadata": {},
   "outputs": [],
   "source": []
  }
 ],
 "metadata": {
  "kernelspec": {
   "display_name": "Python 3",
   "language": "python",
   "name": "python3"
  },
  "language_info": {
   "codemirror_mode": {
    "name": "ipython",
    "version": 3
   },
   "file_extension": ".py",
   "mimetype": "text/x-python",
   "name": "python",
   "nbconvert_exporter": "python",
   "pygments_lexer": "ipython3",
   "version": "3.8.3"
  }
 },
 "nbformat": 4,
 "nbformat_minor": 4
}
