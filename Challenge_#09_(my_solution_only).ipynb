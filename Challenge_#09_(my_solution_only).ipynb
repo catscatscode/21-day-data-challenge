{
 "cells": [
  {
   "cell_type": "markdown",
   "metadata": {},
   "source": [
    "# Challenge #9\n",
    "Difficulty: Easy,\n",
    "Points: 5"
   ]
  },
  {
   "cell_type": "markdown",
   "metadata": {},
   "source": [
    "### **Day 9: *pandas data cleaning & filling NaNs***"
   ]
  },
  {
   "cell_type": "code",
   "execution_count": null,
   "metadata": {},
   "outputs": [],
   "source": [
    "import pandas as pd\n",
    "df = pd.read_csv('milk_2.csv')\n",
    "\n",
    "print(df.head(3)) #Inputing the value 3 inside the brackets of the df.head() function allows us to\n",
    "                  #override the default value of 5.\n",
    "print('\\n') # \n",
    "\n",
    "print(df.shape)"
   ]
  },
  {
   "cell_type": "markdown",
   "metadata": {},
   "source": [
    "### Challenge\n",
    "\n",
    "Fill out the missing values in the *monthly milk production* column with the median, and fill out the *number of cows* column using the ***ffill*** method. \n",
    "\n",
    "After filling in the missing values with our new data, answer these questions for Dot, so they can figure out the value of having a cow year-round: \n",
    "1. What is the average for monthly milk production?\n",
    "2. What is the standard deviation for monthly milk production? \n",
    "3. What is the average number of cows used? "
   ]
  },
  {
   "cell_type": "markdown",
   "metadata": {},
   "source": [
    "### My solution:"
   ]
  },
  {
   "cell_type": "code",
   "execution_count": null,
   "metadata": {},
   "outputs": [],
   "source": [
    "df.median()\n",
    "# Monthly milk production: pounds per cow    755.5\n",
    "# Number of Cows                              52.0\n",
    "# dtype: float64"
   ]
  },
  {
   "cell_type": "code",
   "execution_count": null,
   "metadata": {},
   "outputs": [],
   "source": [
    "df.describe()"
   ]
  },
  {
   "cell_type": "code",
   "execution_count": null,
   "metadata": {},
   "outputs": [],
   "source": [
    "median = df['Monthly milk production: pounds per cow'].median()\n",
    "df['Monthly milk production: pounds per cow'] = df['Monthly milk production: pounds per cow'].fillna(value = median)"
   ]
  },
  {
   "cell_type": "code",
   "execution_count": null,
   "metadata": {},
   "outputs": [],
   "source": [
    "df['Number of Cows'] = df['Number of Cows'].ffill()"
   ]
  },
  {
   "cell_type": "code",
   "execution_count": null,
   "metadata": {},
   "outputs": [],
   "source": [
    "df.describe()"
   ]
  }
 ],
 "metadata": {
  "kernelspec": {
   "display_name": "Python 3",
   "language": "python",
   "name": "python3"
  },
  "language_info": {
   "codemirror_mode": {
    "name": "ipython",
    "version": 3
   },
   "file_extension": ".py",
   "mimetype": "text/x-python",
   "name": "python",
   "nbconvert_exporter": "python",
   "pygments_lexer": "ipython3",
   "version": "3.8.3"
  }
 },
 "nbformat": 4,
 "nbformat_minor": 4
}
