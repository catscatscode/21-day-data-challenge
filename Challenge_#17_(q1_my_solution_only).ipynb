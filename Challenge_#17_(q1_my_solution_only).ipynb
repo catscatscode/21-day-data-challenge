{
 "cells": [
  {
   "cell_type": "markdown",
   "metadata": {},
   "source": [
    "# Challenge #17\n",
    "Difficulty: Easy,\n",
    "Points: 5"
   ]
  },
  {
   "cell_type": "markdown",
   "metadata": {},
   "source": [
    "### **Day 17: *Bar Plots and Specific Data***\n",
    "\n",
    "### Challenge\n",
    "\n",
    "Help Dot by answering the following questions using a bar plot:\n",
    "\n",
    "1. What are the top 5 rated books in the dataset?\n",
    "\n",
    "2. What are the top 5 books with the highest average rating?\n",
    "\n",
    "    **Note:** Filter out books that have low ***ratings_count***, for question 2 filter out books with a ***ratings_count*** less than the mean.\n",
    "\n",
    "**Stretch**\n",
    "\n",
    "As an optional bonus question, try answering this as well:\n",
    "\n",
    "1. What are the top 5 authours with the most books in the dataset?"
   ]
  },
  {
   "cell_type": "code",
   "execution_count": null,
   "metadata": {},
   "outputs": [],
   "source": [
    "# Given\n",
    "import pandas as pd\n",
    "import matplotlib.pyplot as plt\n",
    "df = pd.read_csv(\"books.csv\")\n",
    "\n",
    "df.head(2)"
   ]
  },
  {
   "cell_type": "markdown",
   "metadata": {},
   "source": [
    "### My solution:"
   ]
  },
  {
   "cell_type": "code",
   "execution_count": null,
   "metadata": {
    "scrolled": true
   },
   "outputs": [],
   "source": [
    "# I rephrased the first question to make it clearer to understand:\n",
    "# 1. What are the 5 books with the most ratings in the dataset?\n",
    "\n",
    "df_most_rated = df.sort_values('ratings_count', ascending=False).head()\n",
    "\n",
    "df_most_rated[['book_id','authors','title','ratings_count']]\n",
    "\n",
    "#A: \n",
    "# 1 - Twilight (Twilight #1); \n",
    "# 2 - The Hobbit or There and Back Again; \n",
    "# 3 - The Catcher in the Rye;\n",
    "# 4 - Angels & Demons (Robert Langdon #1);\n",
    "# 5 - Harry Potter and the Prisoner of Azkaban"
   ]
  },
  {
   "cell_type": "code",
   "execution_count": null,
   "metadata": {
    "scrolled": true
   },
   "outputs": [],
   "source": [
    "# I plotted answer 1\n",
    "plt.figure()\n",
    "plt.barh(df_most_rated['title'], df_most_rated['ratings_count'],color='sandybrown')\n",
    "plt.show()"
   ]
  },
  {
   "cell_type": "markdown",
   "metadata": {},
   "source": [
    "### Hint:\n",
    "Note: For Question 1, you will be refering to the ratings_count column.\n",
    "\n",
    "You may be struggling to display only the top 5 books as your answer. The best way to do that is to store the top 5 values after a sort_values() to a new variable that is a DataFrame, then call specifically the column names of the new variable on the bar chart.\n",
    "\n",
    "  top_5 = top_rated = df.sort_values('column').head(5) #Note, default is 5 already so no need to write 5. \n",
    "\n",
    "To read more on the documentation of the pandas sort_values() function, click [here](https://pandas.pydata.org/pandas-docs/stable/reference/api/pandas.DataFrame.sort_values.html).\n",
    "\n",
    "Use the Forum:\n",
    "If you're still having trouble solving the challenge, please visit the forum to seek help. Click [here](https://21day-data-forum.lighthouselabs.ca/)!"
   ]
  },
  {
   "cell_type": "code",
   "execution_count": null,
   "metadata": {},
   "outputs": [],
   "source": []
  }
 ],
 "metadata": {
  "kernelspec": {
   "display_name": "Python 3",
   "language": "python",
   "name": "python3"
  },
  "language_info": {
   "codemirror_mode": {
    "name": "ipython",
    "version": 3
   },
   "file_extension": ".py",
   "mimetype": "text/x-python",
   "name": "python",
   "nbconvert_exporter": "python",
   "pygments_lexer": "ipython3",
   "version": "3.8.3"
  }
 },
 "nbformat": 4,
 "nbformat_minor": 4
}
