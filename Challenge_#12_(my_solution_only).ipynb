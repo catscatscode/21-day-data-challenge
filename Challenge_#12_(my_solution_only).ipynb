{
 "cells": [
  {
   "cell_type": "markdown",
   "metadata": {},
   "source": [
    "# Challenge #12\n",
    "Difficulty: Hard,\n",
    "Points: 20"
   ]
  },
  {
   "cell_type": "markdown",
   "metadata": {},
   "source": [
    "### **Day 12: *pandas data filtering***\n",
    "\n",
    "\n",
    "### Challenge\n",
    "\n",
    "Examining the numbers, Dot understands that the prices of both conventional and organic avocados rise and fall frequently. No matter how they grow the avocados, they don't want to sell them for less than $2. \n",
    "\n",
    "Looking at recent years, Dot needs you to help them find: **in which year or years did both conventional and organic avocados have had average prices above $2?** "
   ]
  },
  {
   "cell_type": "code",
   "execution_count": null,
   "metadata": {},
   "outputs": [],
   "source": [
    "# Given\n",
    "import pandas as pd\n",
    "\n",
    "df = pd.read_csv('avocado.csv', index_col = 0)\n",
    "df.head()"
   ]
  },
  {
   "cell_type": "markdown",
   "metadata": {},
   "source": [
    "### My solution:"
   ]
  },
  {
   "cell_type": "code",
   "execution_count": null,
   "metadata": {},
   "outputs": [],
   "source": [
    "by_year = df.groupby(['year','type'])\n",
    "\n",
    "by_year['AveragePrice'].max() > 2\n",
    "\n",
    "# Output:\n",
    "# year  type        \n",
    "# 2015  conventional    False\n",
    "#       organic          True\n",
    "# 2016  conventional     True\n",
    "#       organic          True\n",
    "# 2017  conventional     True\n",
    "#       organic          True\n",
    "# 2018  conventional    False\n",
    "#       organic          True\n",
    "# Name: AveragePrice, dtype: bool"
   ]
  },
  {
   "cell_type": "markdown",
   "metadata": {},
   "source": []
  },
  {
   "cell_type": "markdown",
   "metadata": {},
   "source": []
  },
  {
   "cell_type": "markdown",
   "metadata": {},
   "source": []
  }
 ],
 "metadata": {
  "kernelspec": {
   "display_name": "Python 3",
   "language": "python",
   "name": "python3"
  },
  "language_info": {
   "codemirror_mode": {
    "name": "ipython",
    "version": 3
   },
   "file_extension": ".py",
   "mimetype": "text/x-python",
   "name": "python",
   "nbconvert_exporter": "python",
   "pygments_lexer": "ipython3",
   "version": "3.8.3"
  }
 },
 "nbformat": 4,
 "nbformat_minor": 4
}
