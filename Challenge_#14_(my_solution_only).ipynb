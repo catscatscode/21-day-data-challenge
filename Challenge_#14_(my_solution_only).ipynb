{
 "cells": [
  {
   "cell_type": "markdown",
   "metadata": {},
   "source": [
    "# Challenge #14\n",
    "Difficulty: Medium,\n",
    "Points: 10"
   ]
  },
  {
   "cell_type": "markdown",
   "metadata": {},
   "source": [
    "### **Day 14: *combining our knowledge*** \n",
    "\n",
    "### Challenge\n",
    "\n",
    "Dot's neighbour said that he only likes wine from Stellenbosch, Bordeaux, and the Okanagan Valley, and that the sulfates can't be that high. The problem is, Dot can't really afford to spend tons of money on the wine. Dot's conditions for searching for wine are: \n",
    "1. Sulfates cannot be higher than 0.6. \n",
    "2. The price has to be less than  $20. \n",
    "\n",
    "Use the above conditions to filter the data for questions **2 and 3** below. \n",
    "\n",
    "**Questions:**\n",
    "1. Where is Stellenbosch, anyway? How many wines from Stellenbosch are there in the *entire dataset*? \n",
    "2. *After filtering with the 2 conditions*, what is the average price of wine from the Bordeaux region? \n",
    "3. *After filtering with the 2 conditions*, what is the least expensive wine that's of the highest quality from the Okanagan Valley?\n",
    "\n",
    "\n",
    "\n",
    "**Stretch Question:**\n",
    "1. What is the average price of wine from Stellenbosch, according to the entire unfiltered dataset? \n",
    "\n",
    "\n",
    "*Note: Check the dataset to see if there are missing values; if there are, fill in missing values with the mean.*"
   ]
  },
  {
   "cell_type": "code",
   "execution_count": null,
   "metadata": {},
   "outputs": [],
   "source": [
    "# Given:\n",
    "import pandas as pd\n",
    "df = pd.read_csv('winequality-red_2.csv')\n",
    "df = df.drop(columns = ['Unnamed: 0'])\n",
    "\n",
    "df.head(3)"
   ]
  },
  {
   "cell_type": "markdown",
   "metadata": {},
   "source": [
    "### My solution:"
   ]
  },
  {
   "cell_type": "code",
   "execution_count": null,
   "metadata": {},
   "outputs": [],
   "source": [
    "# 1. Where is Stellenbosch, anyway? How many wines from Stellenbosch are there in the *entire dataset*? \n",
    "\n",
    "df.value_counts('region')\n",
    "\n",
    "# Output: (Answer: 35 wines from Stellenbosch, which is in South Africa!)\n",
    "# region\n",
    "# La Rjoja            341\n",
    "# Bordeaux            264\n",
    "# Colchagua Valley    260\n",
    "# Okanagan Valley     256\n",
    "# Willamette          233\n",
    "# Marlborough         210\n",
    "# Stellenbosch         35\n",
    "# dtype: int64"
   ]
  },
  {
   "cell_type": "code",
   "execution_count": null,
   "metadata": {},
   "outputs": [],
   "source": [
    "# Two conditions are:\n",
    "# Sulfates cannot be higher than 0.6. \n",
    "# The price has to be less than  $20. \n",
    "\n",
    "# 2. *After filtering with the two conditions*, what is the average price of wine from the Bordeaux region? \n",
    "mask_bord = (df['sulphates'] <= 0.6) & (df['price'] < 20) & (df['region'] == 'Bordeaux')\n",
    "df_bord = df[mask_bord]\n",
    "\n",
    "df_bord.mean()\n",
    "\n",
    "# Output: (Answer is price mean == 11.3)\n",
    "# fixed acidity            7.680000\n",
    "# volatile acidity         0.614250\n",
    "# citric acid              0.210000\n",
    "# residual sugar           2.785000\n",
    "# chlorides                0.082800\n",
    "# free sulfur dioxide     12.350000\n",
    "# total sulfur dioxide    34.350000\n",
    "# density                  0.996007\n",
    "# pH                       3.328500\n",
    "# sulphates                0.550000\n",
    "# alcohol                 10.295000\n",
    "# quality                  5.550000\n",
    "# price                   11.300000\n",
    "# dtype: float64"
   ]
  },
  {
   "cell_type": "code",
   "execution_count": null,
   "metadata": {},
   "outputs": [],
   "source": [
    "# 3. *After filtering with the 2 conditions*, what is the least expensive wine that's of the highest quality from the Okanagan Valley?\n",
    "mask_okan = (df['sulphates'] <= 0.6) & (df['price'] < 20) & (df['region'] == 'Okanagan Valley')\n",
    "df_okan = df[mask_okan]\n",
    "df_okan.sort_values('price', ascending = True).sort_values('quality', ascending = False)\n",
    "\n",
    "# Answer: wine # 1025"
   ]
  }
 ],
 "metadata": {
  "kernelspec": {
   "display_name": "Python 3",
   "language": "python",
   "name": "python3"
  },
  "language_info": {
   "codemirror_mode": {
    "name": "ipython",
    "version": 3
   },
   "file_extension": ".py",
   "mimetype": "text/x-python",
   "name": "python",
   "nbconvert_exporter": "python",
   "pygments_lexer": "ipython3",
   "version": "3.8.3"
  }
 },
 "nbformat": 4,
 "nbformat_minor": 4
}
