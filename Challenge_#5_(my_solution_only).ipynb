{
 "cells": [
  {
   "cell_type": "markdown",
   "metadata": {},
   "source": [
    "# Challenge #5\n",
    "Difficulty: Medium,\n",
    "Points: 10"
   ]
  },
  {
   "cell_type": "markdown",
   "metadata": {},
   "source": [
    "### **Day 5: *conditional logic and control flows***"
   ]
  },
  {
   "cell_type": "markdown",
   "metadata": {},
   "source": [
    "Dot's okay with paying a bit of a surplus for convenience, but they don't want to go broke buying dustpans and glass cleaner. Help them figure out which items cost over 10% more at the nearby store, so they can avoid buying these items.\n",
    "\n",
    "**Using Python, develop a list of items that are too expensive for Dot to purchase at the nearby store.**"
   ]
  },
  {
   "cell_type": "code",
   "execution_count": 2,
   "metadata": {},
   "outputs": [],
   "source": [
    "# Given:\n",
    "\n",
    "# Cleaning Supplies List (19 items)\n",
    "cleaningsupplies_list = ['Broom', 'Mop', 'Dustpan', 'Garbage Bags', 'Glass Cleaner', 'Vinegar',\n",
    "                        'Soap', 'Bleach', 'Duster', 'Floor Cleaner', 'Sponges', 'Dish Soap',\n",
    "                        'Drain Cleaner', 'Paper Towels', 'Cleaning Rags', 'Toilet Cleaner', \n",
    "                        'Rubber Gloves', 'Alcohol Wipes', 'Squeegee']\n",
    "\n",
    "# City Price\n",
    "city_price = [6.49, 4.99, 3.39, 4.29, 3.99, 1.99, \n",
    "              1.50, 3.99, 4.99, 5.99, 2.99, 2.99, \n",
    "              5.99, 2.99, 3.49, 6.99, 2.99, 1.98, 11.99]\n",
    "\n",
    "# Country Price\n",
    "country_price = [5.49, 4.69, 4.42, 5.99, 5.99, 2.50,\n",
    "                1.25, 2.49, 4.50, 6.75, 2.49, 1.99, \n",
    "                6.25, 3.99, 3.59, 4.99, 1.69, 1.87, 10.99]"
   ]
  },
  {
   "cell_type": "markdown",
   "metadata": {},
   "source": [
    "### My solution:"
   ]
  },
  {
   "cell_type": "code",
   "execution_count": 3,
   "metadata": {},
   "outputs": [],
   "source": [
    "# 1. I fixed the formatting of the first list to make it more pythonic\n",
    "# (added snake case to the first list name)\n",
    "\n",
    "# Cleaning Supplies List (19 items)\n",
    "cleaning_supplies_list = ['Broom', 'Mop', 'Dustpan', 'Garbage Bags', 'Glass Cleaner', 'Vinegar',\n",
    "                        'Soap', 'Bleach', 'Duster', 'Floor Cleaner', 'Sponges', 'Dish Soap',\n",
    "                        'Drain Cleaner', 'Paper Towels', 'Cleaning Rags', 'Toilet Cleaner', \n",
    "                        'Rubber Gloves', 'Alcohol Wipes', 'Squeegee']\n",
    "\n",
    "# City Price\n",
    "city_price = [6.49, 4.99, 3.39, 4.29, 3.99, 1.99, \n",
    "              1.50, 3.99, 4.99, 5.99, 2.99, 2.99, \n",
    "              5.99, 2.99, 3.49, 6.99, 2.99, 1.98, 11.99]\n",
    "\n",
    "# Country Price\n",
    "country_price = [5.49, 4.69, 4.42, 5.99, 5.99, 2.50,\n",
    "                1.25, 2.49, 4.50, 6.75, 2.49, 1.99, \n",
    "                6.25, 3.99, 3.59, 4.99, 1.69, 1.87, 10.99]"
   ]
  },
  {
   "cell_type": "code",
   "execution_count": 29,
   "metadata": {
    "scrolled": true
   },
   "outputs": [
    {
     "name": "stdout",
     "output_type": "stream",
     "text": [
      "Items too expensive at the country store:\n",
      "Dustpan\n",
      "Garbage Bags\n",
      "Glass Cleaner\n",
      "Vinegar\n",
      "Floor Cleaner\n",
      "Paper Towels\n"
     ]
    }
   ],
   "source": [
    "# 2. One way to solve challenge - without list append\n",
    "print(\"Items too expensive at the country store:\")\n",
    "for i in range(19):   \n",
    "    difference = (country_price[i] - city_price[i]) / country_price[i]\n",
    "    if difference > 0.1:\n",
    "        print(cleaning_supplies_list[i])"
   ]
  },
  {
   "cell_type": "code",
   "execution_count": 31,
   "metadata": {},
   "outputs": [
    {
     "name": "stdout",
     "output_type": "stream",
     "text": [
      "Items too expensive at the country store:\n",
      "['Dustpan', 'Garbage Bags', 'Glass Cleaner', 'Vinegar', 'Floor Cleaner', 'Paper Towels']\n"
     ]
    }
   ],
   "source": [
    "# 3. Another way to solve challenge - using list append\n",
    "print(\"Items too expensive at the country store:\")\n",
    "too_expensive = []\n",
    "for i in range(19):   \n",
    "    difference = (country_price[i] - city_price[i]) / country_price[i]\n",
    "    if difference > 0.1:\n",
    "        too_expensive.append(cleaning_supplies_list[i])\n",
    "print(too_expensive)"
   ]
  },
  {
   "cell_type": "code",
   "execution_count": null,
   "metadata": {},
   "outputs": [],
   "source": []
  }
 ],
 "metadata": {
  "kernelspec": {
   "display_name": "Python 3",
   "language": "python",
   "name": "python3"
  },
  "language_info": {
   "codemirror_mode": {
    "name": "ipython",
    "version": 3
   },
   "file_extension": ".py",
   "mimetype": "text/x-python",
   "name": "python",
   "nbconvert_exporter": "python",
   "pygments_lexer": "ipython3",
   "version": "3.8.3"
  }
 },
 "nbformat": 4,
 "nbformat_minor": 4
}
