{
 "cells": [
  {
   "cell_type": "markdown",
   "metadata": {},
   "source": [
    "# Challenge #13\n",
    "Difficulty: Easy, \n",
    "Points: 5"
   ]
  },
  {
   "cell_type": "markdown",
   "metadata": {},
   "source": [
    "### **Day 13: *sorting with pandas*** \n",
    "\n",
    "### Challenge\n",
    "Use the pandas sort function and the pandas filter function from the previous challenge to answer these questions:\n",
    "\n",
    "1. Which wines had a quality of 8 or higher and a residual sugar level above 5?\n",
    "2. How many wines in total had a quality of 8 and 7 and a citric acid level below 0.4?\n",
    "\n",
    "*Note: Use the index positions of the wines as the wine names.* "
   ]
  },
  {
   "cell_type": "code",
   "execution_count": null,
   "metadata": {},
   "outputs": [],
   "source": [
    "# Given\n",
    "\n",
    "import pandas as pd\n",
    "wine_df = pd.read_csv('winequality-red.csv')\n",
    "wine_df"
   ]
  },
  {
   "cell_type": "markdown",
   "metadata": {},
   "source": [
    "### My solution:"
   ]
  },
  {
   "cell_type": "code",
   "execution_count": null,
   "metadata": {},
   "outputs": [],
   "source": [
    "# Which wines had a quality of 8 or higher and a residual sugar level above 5?\n",
    "\n",
    "wine_df.sort_values(by=['quality', 'residual sugar'], ascending = False)\n",
    "# Answer: top two rows, aka wines 278 and 455."
   ]
  },
  {
   "cell_type": "code",
   "execution_count": null,
   "metadata": {},
   "outputs": [],
   "source": [
    "# How many wines in total had a quality of 8 and 7 and a citric acid level below 0.4?\n",
    "# (I used a bool mask)\n",
    "\n",
    "mask = (wine_df['quality'] >= 7) & (wine_df['citric acid'] < 0.4)\n",
    "wine_df[mask].value_counts('quality')\n",
    "\n",
    "# Output (answer is 96+9=105):\n",
    "# \n",
    "# quality\n",
    "# 7    96\n",
    "# 8     9\n",
    "# dtype: int64"
   ]
  }
 ],
 "metadata": {
  "kernelspec": {
   "display_name": "Python 3",
   "language": "python",
   "name": "python3"
  },
  "language_info": {
   "codemirror_mode": {
    "name": "ipython",
    "version": 3
   },
   "file_extension": ".py",
   "mimetype": "text/x-python",
   "name": "python",
   "nbconvert_exporter": "python",
   "pygments_lexer": "ipython3",
   "version": "3.8.3"
  }
 },
 "nbformat": 4,
 "nbformat_minor": 4
}
