{
 "cells": [
  {
   "cell_type": "markdown",
   "metadata": {},
   "source": [
    "## Challenge #2\n",
    "Difficulty: Easy,\n",
    "Points: 5"
   ]
  },
  {
   "cell_type": "markdown",
   "metadata": {},
   "source": [
    "### Day Two: math with Python"
   ]
  },
  {
   "cell_type": "markdown",
   "metadata": {},
   "source": [
    "### Challenge\n",
    "Dot has a few lists you can use as reference: their grocery list, the prices they used to pay in the city, and the prices for the rural grocer. **What is the price difference between groceries in the city vs. groceries in the country, as a percentage of country prices?**\n",
    "\n",
    "**Note:** The index position for each item is consistent across all three lists."
   ]
  },
  {
   "cell_type": "code",
   "execution_count": 1,
   "metadata": {},
   "outputs": [],
   "source": [
    "# Grocery List (19 items)\n",
    "grocery_list = ['Bananas', 'Clementines', 'Baguette', 'Oat Milk', 'Olive Oil', 'Coffee Beans',\n",
    "                'Chocolate Bar', 'Brocolli', 'Eggplant', 'Chickpeas', 'Lentils', 'Tomatoes',\n",
    "                'Pasta', 'Rice', 'Yogurt', 'Blueberries', 'Onions', 'Garlic', 'Truffles']\n",
    "\n",
    "# City Price\n",
    "city_price = [6.49, 4.99, 4.39, 4.29, 11.99, 17.99,          \n",
    "              3.49, 3.99, 1.10, 1.99, 2.99, 4.68,            \n",
    "              1.59, 8.99, 3.49, 6.99, 2.99, 1.98, 14.99]\n",
    "\n",
    "# Country Price\n",
    "country_price = [4.49, 4.12, 3.42, 6.99, 7.99, 14.99,              \n",
    "                2.99, 2.49, 0.99, 1.49, 2.49, 1.99,              \n",
    "                1.59, 6.99, 3.89, 4.99, 1.69, 1.87, 11.49]"
   ]
  },
  {
   "cell_type": "markdown",
   "metadata": {},
   "source": [
    "### My solution:"
   ]
  },
  {
   "cell_type": "code",
   "execution_count": 2,
   "metadata": {},
   "outputs": [],
   "source": [
    "# 1. I renamed some of the lists \n",
    "\n",
    "# Grocery List (19 items)\n",
    "grocery_list = ['Bananas', 'Clementines', 'Baguette', 'Oat Milk', 'Olive Oil', 'Coffee Beans',\n",
    "                'Chocolate Bar', 'Brocolli', 'Eggplant', 'Chickpeas', 'Lentils', 'Tomatoes',\n",
    "                'Pasta', 'Rice', 'Yogurt', 'Blueberries', 'Onions', 'Garlic', 'Truffles']\n",
    "\n",
    "# City Price\n",
    "city_prices = [6.49, 4.99, 4.39, 4.29, 11.99, 17.99,          \n",
    "              3.49, 3.99, 1.10, 1.99, 2.99, 4.68,            \n",
    "              1.59, 8.99, 3.49, 6.99, 2.99, 1.98, 14.99]\n",
    "\n",
    "# Country Price\n",
    "country_prices = [4.49, 4.12, 3.42, 6.99, 7.99, 14.99,              \n",
    "                2.99, 2.49, 0.99, 1.49, 2.49, 1.99,              \n",
    "                1.59, 6.99, 3.89, 4.99, 1.69, 1.87, 11.49]"
   ]
  },
  {
   "cell_type": "code",
   "execution_count": 3,
   "metadata": {},
   "outputs": [],
   "source": [
    "# 2. I iterated over the price lists to sum them up\n",
    "# (This could have been accomplished more easily with the sum function)\n",
    "\n",
    "total_city = 0\n",
    "for i in range(len(city_prices)):\n",
    "    total_city += city_prices[i]\n",
    "# print(round(total_city, 2))"
   ]
  },
  {
   "cell_type": "code",
   "execution_count": 4,
   "metadata": {},
   "outputs": [],
   "source": [
    "total_country = 0\n",
    "for i in range(len(country_prices)):\n",
    "    total_country += country_prices[i]\n",
    "# print(round(total_country, 2))"
   ]
  },
  {
   "cell_type": "code",
   "execution_count": 5,
   "metadata": {},
   "outputs": [
    {
     "name": "stdout",
     "output_type": "stream",
     "text": [
      "-0.2582 is the grocery price difference between the city and the country, as a share of country prices.\n"
     ]
    }
   ],
   "source": [
    "# 3. I calculated the price difference\n",
    "difference = round(((total_country - total_city) / total_country), 4)\n",
    "print(\"{difference} is the grocery price difference between the city and the country, as a share of country prices.\".format(difference=difference))\n"
   ]
  }
 ],
 "metadata": {
  "kernelspec": {
   "display_name": "Python 3",
   "language": "python",
   "name": "python3"
  },
  "language_info": {
   "codemirror_mode": {
    "name": "ipython",
    "version": 3
   },
   "file_extension": ".py",
   "mimetype": "text/x-python",
   "name": "python",
   "nbconvert_exporter": "python",
   "pygments_lexer": "ipython3",
   "version": "3.8.3"
  }
 },
 "nbformat": 4,
 "nbformat_minor": 4
}
