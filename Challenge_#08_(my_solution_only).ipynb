{
 "cells": [
  {
   "cell_type": "markdown",
   "metadata": {},
   "source": [
    "# Challenge #8\n",
    "Difficulty: Easy,\n",
    "Points: 5"
   ]
  },
  {
   "cell_type": "markdown",
   "metadata": {},
   "source": [
    "### **Day 8: *pandas DataFrame***"
   ]
  },
  {
   "cell_type": "markdown",
   "metadata": {},
   "source": [
    "### Challenge\n",
    "\n",
    "After playing around with the functions above, you can start helping Dot figure out when the best time to rent a cow might be. With this dataset, you can take a look at how cows produce milk over time. \n",
    "\n",
    "Answer the following questions for Dot: \n",
    "\n",
    "1. At what year and month did company x produce the most milk?\n",
    "2. At what year and month did company x produce the least milk? \n",
    "\n",
    "**Stretch**\n",
    "\n",
    "*Stretch questions are not required to be completed for the challenge, but you can test your skills with more advanced challenges.*\n",
    "\n",
    "1. Which year produced the most milk? "
   ]
  },
  {
   "cell_type": "markdown",
   "metadata": {},
   "source": [
    "### My solution:"
   ]
  },
  {
   "cell_type": "code",
   "execution_count": null,
   "metadata": {},
   "outputs": [],
   "source": [
    "import pandas as pd"
   ]
  },
  {
   "cell_type": "code",
   "execution_count": null,
   "metadata": {},
   "outputs": [],
   "source": [
    "df = pd.read_csv('milk.csv')"
   ]
  },
  {
   "cell_type": "code",
   "execution_count": null,
   "metadata": {},
   "outputs": [],
   "source": [
    "# I added a date column in datetime format\n",
    "df['Date'] = pd.to_datetime(df['Month'], format=\"%y-%b\")\n",
    "df.set_index('Date', inplace=True)"
   ]
  },
  {
   "cell_type": "code",
   "execution_count": null,
   "metadata": {},
   "outputs": [],
   "source": [
    "# I also renamed the last column for ease of reading\n",
    "df = df.rename(columns={'Monthly milk production: pounds per cow':'Pounds'})"
   ]
  },
  {
   "cell_type": "code",
   "execution_count": null,
   "metadata": {},
   "outputs": [],
   "source": [
    "# Checking new columns\n",
    "df.head()"
   ]
  },
  {
   "cell_type": "code",
   "execution_count": null,
   "metadata": {},
   "outputs": [],
   "source": [
    "# Questions 1 and 2\n",
    "# Max and min month\n",
    "\n",
    "max_production_monthly = 0\n",
    "max_month = \"...idk, some month between Feb 2007 and Jan 2021\"\n",
    "min_production_monthly = 1000\n",
    "min_month = \"... idk, some month between Feb 2007 and Jan 2021\"\n",
    "\n",
    "for i in range(2007, 2021): \n",
    "    temp_max = df.loc[str(i),'pounds'].max()\n",
    "    if temp_max > max_production_monthly:\n",
    "        max_production_monthly = temp_max\n",
    "        max_month_df = df.loc[df['pounds'] == max_production_monthly]\n",
    "        max_month = max_month_df['Month'] # TODO: format datetype output\n",
    "    temp_min = df.loc[str(i),'pounds'].min()\n",
    "    if temp_min < min_production_monthly:\n",
    "        min_production_monthly = temp_min\n",
    "        min_month_df = df.loc[df['pounds'] == min_production_monthly]\n",
    "        min_month = min_month_df['Month'] # TODO: format datetype output\n",
    "print(f\"Maximum monthly production volume of {max_production_monthly} pounds was reached in {max_month}.\\nMinimum monthly production volume of {min_production_monthly} pounds was reached in {min_month}.\")\n",
    "\n",
    "# Output:\n",
    "# Maximum monthly production volume of 969 pounds was reached in Date\n",
    "# 2019-06-01    19-Jun\n",
    "# Name: Month, dtype: object.\n",
    "# Minimum monthly production volume of 553 pounds was reached in Date\n",
    "# 2007-12-01    07-Dec\n",
    "# Name: Month, dtype: object."
   ]
  },
  {
   "cell_type": "code",
   "execution_count": null,
   "metadata": {},
   "outputs": [],
   "source": [
    "# Annual production\n",
    "year = 2007\n",
    "annual_productions = []\n",
    "print(\"Year - pounds of milk:\")\n",
    "for i in range(2007, 2021): \n",
    "    annual_production = df.loc[str(i),'Monthly milk production: pounds per cow'].sum()\n",
    "    annual_productions.append(annual_production)\n",
    "    print(year, \"-\", annual_production)\n",
    "    year += 1\n",
    "\n",
    "# Output:    \n",
    "# Year - pounds of milk:\n",
    "# 2007 - 6807\n",
    "# 2008 - 7544\n",
    "# 2009 - 7869\n",
    "# 2010 - 8076\n",
    "# 2011 - 8452\n",
    "# 2012 - 8785\n",
    "# 2013 - 8973\n",
    "# 2014 - 9144\n",
    "# 2015 - 9367\n",
    "# 2016 - 9960\n",
    "# 2017 - 10245\n",
    "# 2018 - 10114\n",
    "# 2019 - 10290\n",
    "# 2020 - 10322"
   ]
  },
  {
   "cell_type": "code",
   "execution_count": null,
   "metadata": {},
   "outputs": [],
   "source": [
    "# Stretch question: Max year\n",
    "max_production_annual = 0\n",
    "max_year = 2007\n",
    "for index, amount in enumerate(annual_productions):\n",
    "    if amount > max_production_annual:\n",
    "        max_production_annual = amount\n",
    "        max_year = 2007 + index\n",
    "print(f\"Maximum annual production volume of {max_production_annual} pounds was reached in {max_year}.\")\n",
    "\n",
    "# Output:\n",
    "# Maximum annual production volume of 10322 pounds was reached in 2020."
   ]
  }
 ],
 "metadata": {
  "kernelspec": {
   "display_name": "Python 3",
   "language": "python",
   "name": "python3"
  },
  "language_info": {
   "codemirror_mode": {
    "name": "ipython",
    "version": 3
   },
   "file_extension": ".py",
   "mimetype": "text/x-python",
   "name": "python",
   "nbconvert_exporter": "python",
   "pygments_lexer": "ipython3",
   "version": "3.8.3"
  }
 },
 "nbformat": 4,
 "nbformat_minor": 4
}
