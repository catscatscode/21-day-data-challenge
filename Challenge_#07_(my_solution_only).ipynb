{
 "cells": [
  {
   "cell_type": "markdown",
   "metadata": {},
   "source": [
    "# Challenge #7\n",
    "Difficulty: Medium, Points: 10"
   ]
  },
  {
   "cell_type": "markdown",
   "metadata": {},
   "source": [
    "### **Day Seven: *simple functions and data cleaning***"
   ]
  },
  {
   "cell_type": "markdown",
   "metadata": {},
   "source": [
    "## Challenge \n",
    "\n",
    "| Box:  | Weight (kg) |\n",
    "|-------|-------------|\n",
    "| Box 1 | 4           |\n",
    "| Box 2 | 2           |\n",
    "| Box 3 | 18          |\n",
    "| Box 4 | 21          |\n",
    "| Box 5 | 14          |\n",
    "| Box 6 | 13          |\n",
    "\n",
    "**Create a function that will open the boxes according to their weight, from lightest to heaviest.**"
   ]
  },
  {
   "cell_type": "code",
   "execution_count": 1,
   "metadata": {},
   "outputs": [],
   "source": [
    "#example dicitonary\n",
    "user_boxes = {'weight': [4,2,18,21,14,13],\n",
    "              'box_name': ['box1','box2', 'box3', 'box4', 'box5', 'box6']\n",
    "             }"
   ]
  },
  {
   "cell_type": "markdown",
   "metadata": {},
   "source": [
    "## My solution:"
   ]
  },
  {
   "cell_type": "code",
   "execution_count": 2,
   "metadata": {},
   "outputs": [],
   "source": [
    "# To keep the original list intact just in case, I duplicated it into a new var\n",
    "from copy import deepcopy\n",
    "user_boxes_sorted = deepcopy(user_boxes)"
   ]
  },
  {
   "cell_type": "code",
   "execution_count": 3,
   "metadata": {},
   "outputs": [],
   "source": [
    "def ordered_minimax(dict):\n",
    "    weight = list(dict.keys())[0]\n",
    "    box_name = list(dict.keys())[1]\n",
    "    \n",
    "    for i in range(len(dict[weight])):\n",
    "        for j in range(len(dict[weight]) - 1):\n",
    "            while dict[weight][j] > dict[weight][j+1]:\n",
    "                temp = dict[weight][j]\n",
    "                temp2 = dict[box_name][j]\n",
    "                \n",
    "                dict[weight][j] = dict[weight][j+1]\n",
    "                dict[box_name][j] = dict[box_name][j+1]\n",
    "                \n",
    "                dict[weight][j+1] = temp\n",
    "                dict[box_name][j+1] = temp2\n",
    "   \n",
    "    return dict"
   ]
  },
  {
   "cell_type": "code",
   "execution_count": 4,
   "metadata": {
    "scrolled": true
   },
   "outputs": [
    {
     "data": {
      "text/plain": [
       "{'weight': [2, 4, 13, 14, 18, 21],\n",
       " 'box_name': ['box2', 'box1', 'box6', 'box5', 'box3', 'box4']}"
      ]
     },
     "execution_count": 4,
     "metadata": {},
     "output_type": "execute_result"
    }
   ],
   "source": [
    "ordered_minimax(user_boxes_sorted)"
   ]
  }
 ],
 "metadata": {
  "kernelspec": {
   "display_name": "Python 3",
   "language": "python",
   "name": "python3"
  },
  "language_info": {
   "codemirror_mode": {
    "name": "ipython",
    "version": 3
   },
   "file_extension": ".py",
   "mimetype": "text/x-python",
   "name": "python",
   "nbconvert_exporter": "python",
   "pygments_lexer": "ipython3",
   "version": "3.8.3"
  }
 },
 "nbformat": 4,
 "nbformat_minor": 4
}
